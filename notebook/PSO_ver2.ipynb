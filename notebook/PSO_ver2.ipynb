{
 "cells": [
  {
   "cell_type": "code",
   "execution_count": 1,
   "metadata": {},
   "outputs": [
    {
     "name": "stdout",
     "output_type": "stream",
     "text": [
      "{'x': 0.005338695715375995, 'y': -0.0042829698649861445}\n",
      "4.6845502805753436e-05\n"
     ]
    }
   ],
   "source": [
    "import numpy as np\n",
    "import random\n",
    "\n",
    "#評価関数\n",
    "def criterion(x, y):\n",
    "    z = x * x + y * y\n",
    "    return z\n",
    "\n",
    "#粒子の位置の更新を行う関数\n",
    "def update_position(x, y, vx, vy):\n",
    "    new_x = x + vx\n",
    "    new_y = y + vy\n",
    "    return new_x, new_y\n",
    "\n",
    "#粒子の速度の更新を行う関数\n",
    "def update_velocity(x, y, vx, vy, p, g, w=0.5, ro_max=0.14):\n",
    "    #パラメーターroはランダムに与える\n",
    "    ro1 = random.uniform(0, ro_max)\n",
    "    ro2 = random.uniform(0, ro_max)\n",
    "    #粒子速度の更新を行う\n",
    "    new_vx = w * vx + ro1 * (p[\"x\"] - x) + ro2 * (g[\"x\"] - x)\n",
    "    new_vy = w * vy + ro1 * (p[\"y\"] - y) + ro2 * (g[\"y\"] - y)\n",
    "    return new_vx, new_vy\n",
    "\n",
    "\n",
    "def main():\n",
    "    N = 100  #粒子の数\n",
    "    x_min, x_max = -5, 5\n",
    "    y_min, y_max = -5, 5\n",
    "    \n",
    "    #粒子位置, 速度, パーソナルベスト, グローバルベストの初期化を行う\n",
    "    ps = [{\"x\": random.uniform(x_min, x_max), \n",
    "        \"y\": random.uniform(y_min, y_max)} for i in range(N)]\n",
    "    vs = [{\"x\": 0.0, \"y\": 0.0} for i in range(N)]\n",
    "    personal_best_positions = list(ps)\n",
    "    personal_best_scores = [criterion(p[\"x\"], p[\"y\"]) for p in ps]\n",
    "    best_particle = np.argmin(personal_best_scores)\n",
    "    global_best_position = personal_best_positions[best_particle]\n",
    "\n",
    "    T = 30  #制限時間(ループの回数)\n",
    "    for t in range(T):\n",
    "        for n in range(N):\n",
    "            x, y = ps[n][\"x\"], ps[n][\"y\"]\n",
    "            vx, vy = vs[n][\"x\"], vs[n][\"y\"]\n",
    "            p = personal_best_positions[n]\n",
    "            #粒子の位置の更新を行う\n",
    "            new_x, new_y = update_position(x, y, vx, vy)\n",
    "            ps[n] = {\"x\": new_x, \"y\": new_y}\n",
    "            #粒子の速度の更新を行う\n",
    "            new_vx, new_vy = update_velocity(\n",
    "                new_x, new_y, vx, vy, p, global_best_position)\n",
    "            vs[n] = {\"x\": new_vx, \"y\": new_vy}\n",
    "            #評価値を求め, パーソナルベストの更新を行う\n",
    "            score = criterion(new_x, new_y)\n",
    "            if score < personal_best_scores[n]:\n",
    "                personal_best_scores[n] = score\n",
    "                personal_best_positions[n] = {\"x\": new_x, \"y\": new_y}\n",
    "        #グローバルベストの更新を行う\n",
    "        best_particle = np.argmin(personal_best_scores)\n",
    "        global_best_position = personal_best_positions[best_particle]\n",
    "    #最適解\n",
    "    print(global_best_position)\n",
    "    print(min(personal_best_scores))\n",
    "\n",
    "if __name__ == '__main__':\n",
    "    main()"
   ]
  },
  {
   "cell_type": "code",
   "execution_count": null,
   "metadata": {},
   "outputs": [],
   "source": []
  }
 ],
 "metadata": {
  "kernelspec": {
   "display_name": "Python 3",
   "language": "python",
   "name": "python3"
  },
  "language_info": {
   "codemirror_mode": {
    "name": "ipython",
    "version": 3
   },
   "file_extension": ".py",
   "mimetype": "text/x-python",
   "name": "python",
   "nbconvert_exporter": "python",
   "pygments_lexer": "ipython3",
   "version": "3.7.6"
  }
 },
 "nbformat": 4,
 "nbformat_minor": 4
}
